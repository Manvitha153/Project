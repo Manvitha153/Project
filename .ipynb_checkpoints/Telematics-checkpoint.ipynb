{
 "cells": [
  {
   "cell_type": "code",
   "execution_count": 1,
   "id": "82f3a22f-a6e3-43fa-b863-77074ff31c31",
   "metadata": {},
   "outputs": [],
   "source": [
    "import pandas as pd\n",
    "import numpy as np\n",
    "import matplotlib.pyplot as plt\n",
    "import seaborn as sns\n",
    "\n",
    "from sklearn.model_selection import train_test_split\n",
    "from sklearn.ensemble import RandomForestClassifier\n",
    "from sklearn.metrics import (\n",
    "    classification_report,\n",
    "    confusion_matrix,\n",
    "    accuracy_score,\n",
    "    roc_auc_score\n",
    ")"
   ]
  },
  {
   "cell_type": "code",
   "execution_count": 4,
   "id": "96efa407-10e5-4f7f-80b6-72068d2fda37",
   "metadata": {},
   "outputs": [
    {
     "name": "stdout",
     "output_type": "stream",
     "text": [
      "Shape: (1500, 10)\n"
     ]
    },
    {
     "data": {
      "text/html": [
       "<div>\n",
       "<style scoped>\n",
       "    .dataframe tbody tr th:only-of-type {\n",
       "        vertical-align: middle;\n",
       "    }\n",
       "\n",
       "    .dataframe tbody tr th {\n",
       "        vertical-align: top;\n",
       "    }\n",
       "\n",
       "    .dataframe thead th {\n",
       "        text-align: right;\n",
       "    }\n",
       "</style>\n",
       "<table border=\"1\" class=\"dataframe\">\n",
       "  <thead>\n",
       "    <tr style=\"text-align: right;\">\n",
       "      <th></th>\n",
       "      <th>trip_id</th>\n",
       "      <th>avg_speed</th>\n",
       "      <th>max_speed</th>\n",
       "      <th>braking_events</th>\n",
       "      <th>acceleration_events</th>\n",
       "      <th>night_driving</th>\n",
       "      <th>phone_usage</th>\n",
       "      <th>trip_duration</th>\n",
       "      <th>risk_score</th>\n",
       "      <th>label</th>\n",
       "    </tr>\n",
       "  </thead>\n",
       "  <tbody>\n",
       "    <tr>\n",
       "      <th>0</th>\n",
       "      <td>TRIP_1</td>\n",
       "      <td>60.960570</td>\n",
       "      <td>110.567222</td>\n",
       "      <td>5</td>\n",
       "      <td>0</td>\n",
       "      <td>0</td>\n",
       "      <td>0</td>\n",
       "      <td>20.485154</td>\n",
       "      <td>31.237160</td>\n",
       "      <td>0</td>\n",
       "    </tr>\n",
       "    <tr>\n",
       "      <th>1</th>\n",
       "      <td>TRIP_2</td>\n",
       "      <td>53.340828</td>\n",
       "      <td>83.976286</td>\n",
       "      <td>1</td>\n",
       "      <td>3</td>\n",
       "      <td>0</td>\n",
       "      <td>1</td>\n",
       "      <td>30.451088</td>\n",
       "      <td>36.994730</td>\n",
       "      <td>0</td>\n",
       "    </tr>\n",
       "    <tr>\n",
       "      <th>2</th>\n",
       "      <td>TRIP_3</td>\n",
       "      <td>62.772262</td>\n",
       "      <td>78.636022</td>\n",
       "      <td>3</td>\n",
       "      <td>4</td>\n",
       "      <td>0</td>\n",
       "      <td>0</td>\n",
       "      <td>20.479253</td>\n",
       "      <td>24.141338</td>\n",
       "      <td>0</td>\n",
       "    </tr>\n",
       "    <tr>\n",
       "      <th>3</th>\n",
       "      <td>TRIP_4</td>\n",
       "      <td>73.276358</td>\n",
       "      <td>94.932511</td>\n",
       "      <td>3</td>\n",
       "      <td>2</td>\n",
       "      <td>0</td>\n",
       "      <td>0</td>\n",
       "      <td>26.516709</td>\n",
       "      <td>26.429447</td>\n",
       "      <td>0</td>\n",
       "    </tr>\n",
       "    <tr>\n",
       "      <th>4</th>\n",
       "      <td>TRIP_5</td>\n",
       "      <td>52.190160</td>\n",
       "      <td>91.596308</td>\n",
       "      <td>4</td>\n",
       "      <td>6</td>\n",
       "      <td>0</td>\n",
       "      <td>0</td>\n",
       "      <td>38.013886</td>\n",
       "      <td>29.688068</td>\n",
       "      <td>0</td>\n",
       "    </tr>\n",
       "  </tbody>\n",
       "</table>\n",
       "</div>"
      ],
      "text/plain": [
       "  trip_id  avg_speed   max_speed  braking_events  acceleration_events  \\\n",
       "0  TRIP_1  60.960570  110.567222               5                    0   \n",
       "1  TRIP_2  53.340828   83.976286               1                    3   \n",
       "2  TRIP_3  62.772262   78.636022               3                    4   \n",
       "3  TRIP_4  73.276358   94.932511               3                    2   \n",
       "4  TRIP_5  52.190160   91.596308               4                    6   \n",
       "\n",
       "   night_driving  phone_usage  trip_duration  risk_score  label  \n",
       "0              0            0      20.485154   31.237160      0  \n",
       "1              0            1      30.451088   36.994730      0  \n",
       "2              0            0      20.479253   24.141338      0  \n",
       "3              0            0      26.516709   26.429447      0  \n",
       "4              0            0      38.013886   29.688068      0  "
      ]
     },
     "execution_count": 4,
     "metadata": {},
     "output_type": "execute_result"
    }
   ],
   "source": [
    "data = pd.read_csv(\"simulated_telematics_data.csv\") \n",
    "print(\"Shape:\", data.shape)\n",
    "data.head()"
   ]
  },
  {
   "cell_type": "code",
   "execution_count": 5,
   "id": "bb0d5e9e-b8ac-4e2a-8e63-c7e5b007e27c",
   "metadata": {},
   "outputs": [
    {
     "name": "stdout",
     "output_type": "stream",
     "text": [
      "(1500, 10)\n",
      "Index(['trip_id', 'avg_speed', 'max_speed', 'braking_events',\n",
      "       'acceleration_events', 'night_driving', 'phone_usage', 'trip_duration',\n",
      "       'risk_score', 'label'],\n",
      "      dtype='object')\n",
      "  trip_id  avg_speed   max_speed  braking_events  acceleration_events  \\\n",
      "0  TRIP_1  60.960570  110.567222               5                    0   \n",
      "1  TRIP_2  53.340828   83.976286               1                    3   \n",
      "2  TRIP_3  62.772262   78.636022               3                    4   \n",
      "3  TRIP_4  73.276358   94.932511               3                    2   \n",
      "4  TRIP_5  52.190160   91.596308               4                    6   \n",
      "\n",
      "   night_driving  phone_usage  trip_duration  risk_score  label  \n",
      "0              0            0      20.485154   31.237160      0  \n",
      "1              0            1      30.451088   36.994730      0  \n",
      "2              0            0      20.479253   24.141338      0  \n",
      "3              0            0      26.516709   26.429447      0  \n",
      "4              0            0      38.013886   29.688068      0  \n",
      "         avg_speed    max_speed  braking_events  acceleration_events  \\\n",
      "count  1500.000000  1500.000000     1500.000000          1500.000000   \n",
      "mean     55.591191    95.299042        2.936000             3.976000   \n",
      "std      11.874467    19.668291        1.585006             2.050258   \n",
      "min      20.000000    34.609757        0.000000             0.000000   \n",
      "25%      47.511624    82.291775        2.000000             3.000000   \n",
      "50%      55.604836    94.959169        3.000000             4.000000   \n",
      "75%      63.160882   108.413910        4.000000             5.000000   \n",
      "max     101.232778   173.524754        9.000000            13.000000   \n",
      "\n",
      "       night_driving  phone_usage  trip_duration   risk_score        label  \n",
      "count    1500.000000  1500.000000    1500.000000  1500.000000  1500.000000  \n",
      "mean        0.246000     0.107333      35.690684    33.042898     0.052667  \n",
      "std         0.430822     0.309640      14.570238     9.453193     0.223442  \n",
      "min         0.000000     0.000000       5.000000     9.865389     0.000000  \n",
      "25%         0.000000     0.000000      25.707181    25.865383     0.000000  \n",
      "50%         0.000000     0.000000      35.560548    30.884105     0.000000  \n",
      "75%         0.000000     0.000000      45.662631    39.840934     0.000000  \n",
      "max         1.000000     1.000000      81.070051    68.227723     1.000000  \n"
     ]
    }
   ],
   "source": [
    "print(data.shape)\n",
    "print(data.columns)\n",
    "print(data.head())\n",
    "print(data.describe())\n"
   ]
  },
  {
   "cell_type": "code",
   "execution_count": 6,
   "id": "89d6cde5-769d-408a-956f-c718507fe93a",
   "metadata": {},
   "outputs": [
    {
     "name": "stdout",
     "output_type": "stream",
     "text": [
      "trip_id                0\n",
      "avg_speed              0\n",
      "max_speed              0\n",
      "braking_events         0\n",
      "acceleration_events    0\n",
      "night_driving          0\n",
      "phone_usage            0\n",
      "trip_duration          0\n",
      "risk_score             0\n",
      "label                  0\n",
      "dtype: int64\n",
      "trip_id                 object\n",
      "avg_speed              float64\n",
      "max_speed              float64\n",
      "braking_events           int64\n",
      "acceleration_events      int64\n",
      "night_driving            int64\n",
      "phone_usage              int64\n",
      "trip_duration          float64\n",
      "risk_score             float64\n",
      "label                    int64\n",
      "dtype: object\n"
     ]
    },
    {
     "data": {
      "image/png": "[encoded data removed]",
      "text/plain": [
       "<Figure size 640x480 with 1 Axes>"
      ]
     },
     "metadata": {},
     "output_type": "display_data"
    }
   ],
   "source": [
    "print(data.isnull().sum()) \n",
    "print(data.dtypes)\n",
    "import seaborn as sns\n",
    "import matplotlib.pyplot as plt\n",
    "sns.boxplot(data=data[['avg_speed', 'max_speed', 'braking_events']])\n",
    "plt.show()"
   ]
  },
  {
   "cell_type": "code",
   "execution_count": 8,
   "id": "9d2f6283-b2d2-479e-9daa-56491cdc91eb",
   "metadata": {},
   "outputs": [
    {
     "name": "stdout",
     "output_type": "stream",
     "text": [
      "label\n",
      "0    1421\n",
      "1      79\n",
      "Name: count, dtype: int64\n"
     ]
    },
    {
     "data": {
      "image/png": "[encoded data removed]",
      "text/plain": [
       "<Figure size 640x480 with 1 Axes>"
      ]
     },
     "metadata": {},
     "output_type": "display_data"
    }
   ],
   "source": [
    "print(data['label'].value_counts())\n",
    "sns.countplot(x='label', data=data)\n",
    "plt.title(\"Safe (0) vs Risky (1) Trips\")\n",
    "plt.show()\n"
   ]
  },
  {
   "cell_type": "code",
   "execution_count": 9,
   "id": "4afbed8c-5a73-4a24-a8d7-f4f92f48c164",
   "metadata": {},
   "outputs": [
    {
     "name": "stdout",
     "output_type": "stream",
     "text": [
      "(1500, 7) (1500,)\n"
     ]
    }
   ],
   "source": [
    "X = data.drop(columns=['trip_id', 'risk_score', 'label'])\n",
    "y = data['label']\n",
    "print(X.shape, y.shape)"
   ]
  },
  {
   "cell_type": "code",
   "execution_count": 10,
   "id": "24a298f4-b1fd-4818-b666-0d40253de024",
   "metadata": {},
   "outputs": [
    {
     "name": "stdout",
     "output_type": "stream",
     "text": [
      "Train size: 1200 | Test size: 300\n"
     ]
    }
   ],
   "source": [
    "from sklearn.model_selection import train_test_split\n",
    "X_train, X_test, y_train, y_test = train_test_split(\n",
    "    X, y, test_size=0.2, random_state=42\n",
    ")\n",
    "print(\"Train size:\", X_train.shape[0], \"| Test size:\", X_test.shape[0])"
   ]
  },
  {
   "cell_type": "code",
   "execution_count": 11,
   "id": "d03a663c-2820-47ab-b10a-8a9c1950a418",
   "metadata": {},
   "outputs": [
    {
     "name": "stdout",
     "output_type": "stream",
     "text": [
      "Model trained successfully.\n"
     ]
    }
   ],
   "source": [
    "from sklearn.ensemble import RandomForestClassifier\n",
    "model = RandomForestClassifier(n_estimators=100, random_state=42)\n",
    "model.fit(X_train, y_train)\n",
    "print(\"Model trained successfully.\")"
   ]
  },
  {
   "cell_type": "code",
   "execution_count": 12,
   "id": "a4fbefce-1633-43a3-9547-5ae43d2b15bb",
   "metadata": {},
   "outputs": [],
   "source": [
    "y_pred = model.predict(X_test)"
   ]
  },
  {
   "cell_type": "code",
   "execution_count": 13,
   "id": "c27068ab-c9cc-4b75-b3be-8f16f02f6507",
   "metadata": {},
   "outputs": [
    {
     "name": "stdout",
     "output_type": "stream",
     "text": [
      "Accuracy: 0.9833333333333333\n",
      "Classification Report:\n",
      "               precision    recall  f1-score   support\n",
      "\n",
      "           0       0.99      1.00      0.99       275\n",
      "           1       0.95      0.84      0.89        25\n",
      "\n",
      "    accuracy                           0.98       300\n",
      "   macro avg       0.97      0.92      0.94       300\n",
      "weighted avg       0.98      0.98      0.98       300\n",
      "\n"
     ]
    },
    {
     "data": {
      "image/png": "[encoded data removed]",
      "text/plain": [
       "<Figure size 640x480 with 2 Axes>"
      ]
     },
     "metadata": {},
     "output_type": "display_data"
    }
   ],
   "source": [
    "from sklearn.metrics import accuracy_score, classification_report, confusion_matrix\n",
    "import seaborn as sns\n",
    "import matplotlib.pyplot as plt\n",
    "print(\"Accuracy:\", accuracy_score(y_test, y_pred))\n",
    "print(\"Classification Report:\\n\", classification_report(y_test, y_pred))\n",
    "cm = confusion_matrix(y_test, y_pred)\n",
    "sns.heatmap(cm, annot=True, fmt='d', cmap='Blues', xticklabels=['Safe', 'Risky'], yticklabels=['Safe', 'Risky'])\n",
    "plt.xlabel(\"Predicted\")\n",
    "plt.ylabel(\"Actual\")\n",
    "plt.title(\"Confusion Matrix\")\n",
    "plt.show()"
   ]
  },
  {
   "cell_type": "code",
   "execution_count": 15,
   "id": "f272cd05-aee6-4d33-9920-be7f0dadf324",
   "metadata": {},
   "outputs": [],
   "source": [
    "# Step 1: Pick a sample from the test set\n",
    "sample_index = X_test.index[0]\n",
    "sample_trip = X_test.loc[[sample_index]]  # Keep as DataFrame\n",
    "\n",
    "# Step 2: Predict risk class\n",
    "prediction = model.predict(sample_trip)[0]\n",
    "risk_class = \"Risky\" if prediction == 1 else \"Safe\"\n"
   ]
  },
  {
   "cell_type": "code",
   "execution_count": 17,
   "id": "4b056c4b-151d-415f-91d4-3cb5d09407ad",
   "metadata": {},
   "outputs": [],
   "source": [
    "# Get the risk score from the original dataframe\n",
    "risk_score = data.loc[sample_index, 'risk_score']"
   ]
  },
  {
   "cell_type": "code",
   "execution_count": 18,
   "id": "47e486ab-df59-472d-9caf-71fbd2b02161",
   "metadata": {},
   "outputs": [],
   "source": [
    "base_premium = 5000\n",
    "premium = round(base_premium * (1 + (risk_score / 100) * 0.5))"
   ]
  },
  {
   "cell_type": "code",
   "execution_count": 19,
   "id": "542070da-8c80-4593-855c-92b930993846",
   "metadata": {},
   "outputs": [],
   "source": [
    "def generate_recommendation(trip):\n",
    "    recs = []\n",
    "    if trip['max_speed'] > 120:\n",
    "        recs.append(\"🚀 High max speed — consider driving slower.\")\n",
    "    if trip['braking_events'] > 4:\n",
    "        recs.append(\"🚦 Frequent harsh braking — maintain safer distance.\")\n",
    "    if trip['acceleration_events'] > 5:\n",
    "        recs.append(\"⚡ Sudden acceleration — drive more smoothly.\")\n",
    "    if trip['phone_usage'] == 1:\n",
    "        recs.append(\"📵 Phone usage detected — avoid distractions.\")\n",
    "    if trip['night_driving'] == 1:\n",
    "        recs.append(\"🌙 Night driving — increase alertness.\")\n",
    "    return recs or [\"✅ No major risk factors detected. Great job!\"]\n",
    "\n",
    "recommendations = generate_recommendation(sample_trip.iloc[0])"
   ]
  },
  {
   "cell_type": "code",
   "execution_count": 20,
   "id": "835e8e59-8e95-4760-bff1-5530ed285af1",
   "metadata": {},
   "outputs": [
    {
     "name": "stdout",
     "output_type": "stream",
     "text": [
      "🔎 Trip Summary\n",
      "Risk Score: 25\n",
      "Risk Class: Safe\n",
      "Adjusted Premium: ₹ 5630\n",
      "Recommendations:\n",
      "- ✅ No major risk factors detected. Great job!\n"
     ]
    }
   ],
   "source": [
    "print(\"🔎 Trip Summary\")\n",
    "print(\"Risk Score:\", round(risk_score))\n",
    "print(\"Risk Class:\", risk_class)\n",
    "print(\"Adjusted Premium: ₹\", premium)\n",
    "print(\"Recommendations:\")\n",
    "for rec in recommendations:\n",
    "    print(\"-\", rec)"
   ]
  },
  {
   "cell_type": "code",
   "execution_count": 22,
   "id": "65d00f69-7a35-499f-8664-50cdb934e73a",
   "metadata": {},
   "outputs": [],
   "source": [
    "def analyze_trip_input(model, df):\n",
    "    print(\"📥 Enter the following trip data:\\n\")\n",
    "    \n",
    "    # Get user input for features\n",
    "    avg_speed = float(input(\"Average speed (km/h): \"))\n",
    "    max_speed = float(input(\"Max speed (km/h): \"))\n",
    "    braking_events = int(input(\"Number of harsh braking events: \"))\n",
    "    acceleration_events = int(input(\"Number of sudden accelerations: \"))\n",
    "    night_driving = int(input(\"Night driving? (1 = Yes, 0 = No): \"))\n",
    "    phone_usage = int(input(\"Phone usage? (1 = Yes, 0 = No): \"))\n",
    "    trip_duration = float(input(\"Trip duration (minutes): \"))\n",
    "    \n",
    "    # Create input DataFrame\n",
    "    new_trip = pd.DataFrame([{\n",
    "        'avg_speed': avg_speed,\n",
    "        'max_speed': max_speed,\n",
    "        'braking_events': braking_events,\n",
    "        'acceleration_events': acceleration_events,\n",
    "        'night_driving': night_driving,\n",
    "        'phone_usage': phone_usage,\n",
    "        'trip_duration': trip_duration\n",
    "    }])\n",
    "\n",
    "    # Make prediction\n",
    "    prediction = model.predict(new_trip)[0]\n",
    "    risk_class = \"Risky\" if prediction == 1 else \"Safe\"\n",
    "\n",
    "    # Estimate a risk score using similar logic (optional simple estimate)\n",
    "    risk_score = (\n",
    "        (max_speed / 180) * 0.4 +\n",
    "        (braking_events / 15) * 0.2 +\n",
    "        (acceleration_events / 15) * 0.1 +\n",
    "        night_driving * 0.15 +\n",
    "        phone_usage * 0.15\n",
    "    ) * 100\n",
    "\n",
    "    # Premium Calculation\n",
    "    base_premium = 5000\n",
    "    premium = round(base_premium * (1 + (risk_score / 100) * 0.5))\n",
    "\n",
    "    # Recommendation generator\n",
    "    def generate_recommendation(trip):\n",
    "        recs = []\n",
    "        if trip['max_speed'] > 120:\n",
    "            recs.append(\"🚀 High max speed — consider driving slower.\")\n",
    "        if trip['braking_events'] > 4:\n",
    "            recs.append(\"🚦 Frequent harsh braking — maintain safer distance.\")\n",
    "        if trip['acceleration_events'] > 5:\n",
    "            recs.append(\"⚡ Sudden acceleration — drive more smoothly.\")\n",
    "        if trip['phone_usage'] == 1:\n",
    "            recs.append(\"📵 Phone usage detected — avoid distractions.\")\n",
    "        if trip['night_driving'] == 1:\n",
    "            recs.append(\"🌙 Night driving — increase alertness.\")\n",
    "        return recs or [\"✅ No major risk factors detected. Great job!\"]\n",
    "\n",
    "    recs = generate_recommendation(new_trip.iloc[0])\n",
    "\n",
    "    # Final Output\n",
    "    print(\"\\n✅ Analysis Complete:\\n\")\n",
    "    print(f\"🧠 Risk Class: {risk_class}\")\n",
    "    print(f\"📈 Estimated Risk Score: {round(risk_score)} / 100\")\n",
    "    print(f\"💰 Adjusted Premium: ₹{premium}\")\n",
    "    print(\"📝 Recommendations:\")\n",
    "    for r in recs:\n",
    "        print(\"-\", r)\n"
   ]
  },
  {
   "cell_type": "code",
   "execution_count": 24,
   "id": "7d3e7bbe-ea62-4ecc-a626-9efe1cad709e",
   "metadata": {},
   "outputs": [
    {
     "name": "stdout",
     "output_type": "stream",
     "text": [
      "📥 Enter the following trip data:\n",
      "\n"
     ]
    },
    {
     "name": "stdin",
     "output_type": "stream",
     "text": [
      "Average speed (km/h):  40\n",
      "Max speed (km/h):  50\n",
      "Number of harsh braking events:  3\n",
      "Number of sudden accelerations:  5\n",
      "Night driving? (1 = Yes, 0 = No):  1\n",
      "Phone usage? (1 = Yes, 0 = No):  1\n",
      "Trip duration (minutes):  55\n"
     ]
    },
    {
     "name": "stdout",
     "output_type": "stream",
     "text": [
      "\n",
      "✅ Analysis Complete:\n",
      "\n",
      "🧠 Risk Class: Risky\n",
      "📈 Estimated Risk Score: 48 / 100\n",
      "💰 Adjusted Premium: ₹6211\n",
      "📝 Recommendations:\n",
      "- 📵 Phone usage detected — avoid distractions.\n",
      "- 🌙 Night driving — increase alertness.\n"
     ]
    }
   ],
   "source": [
    "analyze_trip_input(model, data)"
   ]
  },
  {
   "cell_type": "code",
   "execution_count": 25,
   "id": "ac6e8c77-f067-41c5-9420-252997ce95cd",
   "metadata": {},
   "outputs": [
    {
     "name": "stdout",
     "output_type": "stream",
     "text": [
      "✅ Model saved as risk_model.pkl\n"
     ]
    }
   ],
   "source": [
    "import joblib\n",
    "\n",
    "# Save model to file\n",
    "joblib.dump(model, \"risk_model.pkl\")\n",
    "print(\"✅ Model saved as risk_model.pkl\")\n"
   ]
  },
  {
   "cell_type": "code",
   "execution_count": null,
   "id": "91f91cdb-9511-4430-a5be-b9aa26275a87",
   "metadata": {},
   "outputs": [],
   "source": []
  }
 ],
 "metadata": {
  "kernelspec": {
   "display_name": "Python 3 (ipykernel)",
   "language": "python",
   "name": "python3"
  },
  "language_info": {
   "codemirror_mode": {
    "name": "ipython",
    "version": 3
   },
   "file_extension": ".py",
   "mimetype": "text/x-python",
   "name": "python",
   "nbconvert_exporter": "python",
   "pygments_lexer": "ipython3",
   "version": "3.13.5"
  }
 },
 "nbformat": 4,
 "nbformat_minor": 5
}
